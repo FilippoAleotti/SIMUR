{
 "cells": [
  {
   "cell_type": "markdown",
   "metadata": {},
   "source": [
    "# Introduction to Python!\n",
    "\n",
    "Filippo Aleotti, 29 November 2019\n",
    "\n",
    "Code for the I PROFESSIONAL MASTER'S PROGRAM, II LEVEL \"SIMUR\", Imola 2019"
   ]
  },
  {
   "cell_type": "markdown",
   "metadata": {},
   "source": [
    "Let’s write our first Python program: we desire to write in our terminal the *Hello, wold!* sentence."
   ]
  },
  {
   "cell_type": "code",
   "execution_count": null,
   "metadata": {},
   "outputs": [],
   "source": [
    "print('Hello, world!')"
   ]
  },
  {
   "cell_type": "markdown",
   "metadata": {},
   "source": [
    "as we can see in later, **print** is a function that allows to display the value of variables."
   ]
  },
  {
   "cell_type": "markdown",
   "metadata": {},
   "source": [
    "## Variables and Data Types\n",
    "\n",
    "Inside your programs you expect to read data, apply operations and transformations on them and finally return a results.\n",
    "\n",
    "Programming languages offer you variables to store data, and operations on variables to change them\n",
    "\n",
    "In general, creating a variable means allocating a portion of the RAM memory of your pc and it is reserved for your program. When you do not need anymore such space, you (or eventually someone for you, e.g. the garbage collector) deallocate the variable, making the space available again \n",
    "\n",
    "In Python, variables have a data type depending on how we are going to use them in the program.\n",
    "\n",
    "For instance, we expect to handle differently your name and the number of rooms in your house, since the former is related to text while the latter is a numerical entity. \n",
    "\n",
    "Python offers many data types, including:\n",
    "* Numeric, so Integer, Float and Complex\n",
    "* Boolean\n",
    "* Sequence, so String, List and Tuple\n",
    "* Dictionary"
   ]
  },
  {
   "cell_type": "markdown",
   "metadata": {},
   "source": [
    "### Empty Variable\n",
    "\n",
    "We can use the value **None** to create a variable that is currently has no value, but later in the code will be modified."
   ]
  },
  {
   "cell_type": "code",
   "execution_count": null,
   "metadata": {},
   "outputs": [],
   "source": [
    "age    = None \n",
    "people = None"
   ]
  },
  {
   "cell_type": "markdown",
   "metadata": {},
   "source": [
    "Maybe now we do not know the correct value for these variables, but we have already prepared them, so they can be used and changed later."
   ]
  },
  {
   "cell_type": "markdown",
   "metadata": {},
   "source": [
    "### Comment\n",
    "\n",
    "Sometimes we want to add comments to our program. Comments may help us and other people when reading the code, and commented lines won’t be executed\n",
    "\n",
    "You can comment a line using #, and more lines opening and closing three times the single or the double quotes"
   ]
  },
  {
   "cell_type": "code",
   "execution_count": 6,
   "metadata": {},
   "outputs": [
    {
     "data": {
      "text/plain": [
       "'\\n    multiple\\n    line \\n    comment \\n'"
      ]
     },
     "execution_count": 6,
     "metadata": {},
     "output_type": "execute_result"
    }
   ],
   "source": [
    "# this line is commented\n",
    "'''\n",
    "    multiple\n",
    "    line \n",
    "    comment \n",
    "'''"
   ]
  },
  {
   "cell_type": "markdown",
   "metadata": {},
   "source": [
    "### Integer\n",
    "\n",
    "We use integer variables to represent elements of *Z* set \n",
    "For instance, the age of a person or the number of people in this room can be stored in integer variables"
   ]
  },
  {
   "cell_type": "code",
   "execution_count": null,
   "metadata": {},
   "outputs": [],
   "source": [
    "age    = 26 # integer\n",
    "people = 20 # integer"
   ]
  },
  {
   "cell_type": "markdown",
   "metadata": {},
   "source": [
    "### Float\n",
    "We use float variables to approximate elements of *R* set \n",
    "The height in meter of a person or a payment in $ you made with your credit card are examples of float values"
   ]
  },
  {
   "cell_type": "code",
   "execution_count": null,
   "metadata": {},
   "outputs": [],
   "source": [
    "height  = 1.87  # float\n",
    "payment = 200.2 # float"
   ]
  },
  {
   "cell_type": "markdown",
   "metadata": {},
   "source": [
    "### Math\n",
    "With integer and float variables we can perform mathematical operations, such as **addition**, **subtraction**, **multiplication** and **division**"
   ]
  },
  {
   "cell_type": "code",
   "execution_count": null,
   "metadata": {},
   "outputs": [],
   "source": [
    "x = 10. # float\n",
    "y = 20  # int\n",
    "add = x + y         # 30.0 float\n",
    "dot = x * y         # 200.0 float\n",
    "power = x ** 2      # 100.0 float\n",
    "div = y / x         # 2.0 float\n",
    "int_div = y // 3  # 6, int\n",
    "modulo = y % 3   # 2 (remainder of modulo division), int "
   ]
  },
  {
   "cell_type": "markdown",
   "metadata": {},
   "source": [
    "We can check equality with == and inequality with != \n",
    "\n",
    "Moreover, we can force the order of operations using ()  "
   ]
  },
  {
   "cell_type": "code",
   "execution_count": 2,
   "metadata": {},
   "outputs": [],
   "source": [
    "x = 10. # float\n",
    "y = 20  # int\n",
    "z = 2\n",
    "equality = x == y   # False, boolean\n",
    "inequality = x != y # True, boolean\n",
    "result1 = x+y*z     #  50, the result of y*z is added to x\n",
    "result2 = (x+y)*z   # 60, the result of x+y is multiplied by z"
   ]
  },
  {
   "cell_type": "markdown",
   "metadata": {},
   "source": [
    "### Boolean\n",
    "\n",
    "We use boolean variables to store True or False values. For instance, if a payment has be done we can set a flag payment equals to True, while if a flight passenger hasn’t request to check-in yet, we can create a checked variable set to False"
   ]
  },
  {
   "cell_type": "code",
   "execution_count": null,
   "metadata": {},
   "outputs": [],
   "source": [
    "checked = False\n",
    "payed   = True"
   ]
  },
  {
   "cell_type": "markdown",
   "metadata": {},
   "source": [
    "We can perform logical operation on booleans"
   ]
  },
  {
   "cell_type": "code",
   "execution_count": null,
   "metadata": {},
   "outputs": [],
   "source": [
    "in_airport = True\n",
    "in_bus_station = False\n",
    "checked = False\n",
    "ready_to_flight = in_airport and checked # False\n",
    "ready_to_move = in_airport or in_bus_station # True"
   ]
  },
  {
   "cell_type": "markdown",
   "metadata": {},
   "source": [
    "### String\n",
    "\n",
    "We use string variables to store textual information.\n",
    "Your name and surname are examples of strings. In Python, we can create a string variable using single or double quote"
   ]
  },
  {
   "cell_type": "code",
   "execution_count": null,
   "metadata": {},
   "outputs": [],
   "source": [
    "name    = 'Filippo'\n",
    "surname = \"Aleotti\"\n",
    "city    ='Bologna'\n",
    "empty   = ''"
   ]
  },
  {
   "cell_type": "markdown",
   "metadata": {},
   "source": [
    "Notice that we can create also empty string, just opening and closing the string.\n",
    "We can think about strings as sequences of characters, and we are able to access these characters using index notation.\n",
    "Moreover, we can exploit methods of string to perform quite common operations (e.g., to replace some characters)"
   ]
  },
  {
   "cell_type": "code",
   "execution_count": null,
   "metadata": {},
   "outputs": [],
   "source": [
    "name = 'Filippo'\n",
    "first_char = name[0] # F\n",
    "last_char = name[-1] # o\n",
    "length = len(name) # 7\n",
    "name = name.replace('F','f')  # replacing all F with f"
   ]
  },
  {
   "cell_type": "markdown",
   "metadata": {},
   "source": [
    "**Note:** the index starts from 0, so first char is placed at index 0, the second at index 1 and so on.\n",
    "\n",
    "Given two or even more strings, we can merge them into a single, longer string using the + operator. \n",
    "In this case, full_name is a new string obtained concatenating name, surname and a single space string."
   ]
  },
  {
   "cell_type": "code",
   "execution_count": null,
   "metadata": {},
   "outputs": [],
   "source": [
    "name     = 'Filippo'\n",
    "surname  = \"Aleotti\"\n",
    "full_name= name + ' ' + surname"
   ]
  },
  {
   "cell_type": "markdown",
   "metadata": {},
   "source": [
    "Strings are **immutable** objects: it means that, once created, they cannot be modified. So, using index notation we are able to read elements but not to change them. In addiction, we cannot mix characters and integers or float"
   ]
  },
  {
   "cell_type": "code",
   "execution_count": null,
   "metadata": {},
   "outputs": [],
   "source": [
    "name[0] = 'F'   # TypeError: 'str' object does not support item assignment\n",
    "name = name + 2 # TypeError: cannot concatenate 'str' and 'int' objects"
   ]
  },
  {
   "cell_type": "markdown",
   "metadata": {},
   "source": [
    "Given two strings, we can check if they are equal or not using ==, and != to check the inequality"
   ]
  },
  {
   "cell_type": "code",
   "execution_count": null,
   "metadata": {},
   "outputs": [],
   "source": [
    "name     = 'Filippo'\n",
    "name2    = \"Filippo\"\n",
    "surname  = \"Aleotti\"\n",
    "surname2 = \"Aleottii\"\n",
    "same_name = name == name2 # True, boolean\n",
    "same_surname = surname == surname2 # False, boolean\n",
    "different_surname = surname != surname2 # True, boolean\n",
    "\n",
    "print('same_name: {}'.format(same_name))\n",
    "print('same_surname: {}'.format(same_surname))\n",
    "print('different_surname: {}'.format(different_surname))"
   ]
  },
  {
   "cell_type": "markdown",
   "metadata": {},
   "source": [
    "The **len** function returns the length of a string (i.e., the number of characters)"
   ]
  },
  {
   "cell_type": "code",
   "execution_count": 9,
   "metadata": {},
   "outputs": [],
   "source": [
    "name    = 'Filippo'\n",
    "l = len(name) # 7"
   ]
  },
  {
   "cell_type": "markdown",
   "metadata": {},
   "source": [
    "### Print\n",
    "\n",
    "Given a variable, we are able to print its value thanks to the **print** function"
   ]
  },
  {
   "cell_type": "code",
   "execution_count": null,
   "metadata": {},
   "outputs": [],
   "source": [
    "name = 'Filippo'\n",
    "print(name)\n",
    "age  = 26\n",
    "print(age)\n",
    "print('your name is '+ name)"
   ]
  },
  {
   "cell_type": "markdown",
   "metadata": {},
   "source": [
    "### Cast\n",
    "\n",
    "Sometimes we have to change the type of a variable.\n",
    "Suppose you have read data from an input form in a web page, but such value represents a payment. We have to **cast** the value from text to float.  "
   ]
  },
  {
   "cell_type": "code",
   "execution_count": null,
   "metadata": {},
   "outputs": [],
   "source": [
    "txt_payment   = '260.12'\n",
    "float_payment = float(txt_payment) # 260.12\n",
    "int_payment   = int(float_payment) # 260\n",
    "str_payment   = str(int_payment)   # '260'"
   ]
  },
  {
   "cell_type": "markdown",
   "metadata": {},
   "source": [
    "**NOTE**: you might lose accuracy with casting\n",
    "\n",
    "Not all casting transformations are allowed: for instance, string to float casting is granted if and only if the string contains only values that represent numbers  "
   ]
  },
  {
   "cell_type": "code",
   "execution_count": null,
   "metadata": {},
   "outputs": [],
   "source": [
    "txt_payment   = '260.12DOLLARS'\n",
    "float_payment = float(txt_payment)"
   ]
  },
  {
   "cell_type": "markdown",
   "metadata": {},
   "source": [
    "### Format\n",
    "To improve the readability of our strings while printing, we may want to **format** them.\n",
    "We can even format numbers in strings: a placeholder with f will contain a number, and we are able to set both the number of digits (6) and decimals (4)"
   ]
  },
  {
   "cell_type": "code",
   "execution_count": null,
   "metadata": {},
   "outputs": [],
   "source": [
    "name    = 'Filippo'\n",
    "print('Hello {}!'.format(name)) # Hello Filippo!\n",
    "pi = 3.14159265359\n",
    "print('The value of pi is {:6.4f}'.format(pi)) # The value of pi is 3.1416\n",
    "print('Hello {}, the value of pi is {:6.4f}'.format(name, pi)) "
   ]
  },
  {
   "cell_type": "markdown",
   "metadata": {},
   "source": [
    "## Collections\n",
    "\n",
    "So far, we have used variables able to store a single value, with Strings as only exception, since they contain a sequence of characters.\n",
    "\n",
    "However, in many practical situations we desire to store together many values: for instance, collect all the credit card payments each person in this room did last month. \n",
    "It is preferable to group values, in order to look in a single place when we have to read/modify them\n",
    "\n",
    "Python offers various data structures for this purpose, such as:\n",
    "* Tuples\n",
    "* Lists\n",
    "* Dictionaries\n",
    "\n",
    "### Tuple\n",
    "A tuple is an **immutable** list of values, comma separated"
   ]
  },
  {
   "cell_type": "code",
   "execution_count": null,
   "metadata": {},
   "outputs": [],
   "source": [
    "languages = 'python', 'java', 'c++', 'c#', 'ruby'   # this is a tuple\n",
    "languages = ('python', 'java', 'c++', 'c#', 'ruby') # but this is the convention for tuple\n",
    "print('languages: {}'.format(languages))"
   ]
  },
  {
   "cell_type": "markdown",
   "metadata": {},
   "source": [
    "Using index notation we access to elements of the tuple"
   ]
  },
  {
   "cell_type": "code",
   "execution_count": null,
   "metadata": {},
   "outputs": [],
   "source": [
    "languages = 'python', 'java', 'c++', 'c#', 'ruby'\n",
    "first = languages[0]  # get the first element of the tuple\n",
    "last  = languages[-1] # get the last element of the tuple\n",
    "third_and_fourth = languages[2:4] # it returns the tuple ('c++','c#')\n",
    "\n",
    "print('first: {}'.format(first))\n",
    "print('last: {}'.format(last))\n",
    "print('third_and_fourth: {}'.format(third_and_fourth))"
   ]
  },
  {
   "cell_type": "markdown",
   "metadata": {},
   "source": [
    "However, we can’t modify the elements"
   ]
  },
  {
   "cell_type": "code",
   "execution_count": null,
   "metadata": {},
   "outputs": [],
   "source": [
    "languages = ('python', 'java', 'c++', 'c#', 'ruby')\n",
    "languages[1] = 'javascript'"
   ]
  },
  {
   "cell_type": "markdown",
   "metadata": {},
   "source": [
    "### Slice notation\n",
    "\n",
    "In the previous example we saw also how to get more than a single element from tuple using index notation"
   ]
  },
  {
   "cell_type": "code",
   "execution_count": null,
   "metadata": {},
   "outputs": [],
   "source": [
    "languages = 'python', 'java', 'c++', 'c#', 'ruby'   # this is a tuple\n",
    "third_and_fourth = languages[2:4]\n",
    "print('third and fourth:{}'.format(third_and_fourth))"
   ]
  },
  {
   "cell_type": "markdown",
   "metadata": {},
   "source": [
    "The notation **[start : stop]** is called **slice notation** in Python, since it allows to extract a slice of data from our data structure\n",
    "\n",
    "The outcome slice contains all elements starting from **start** index until **stop-1** index (i.e., **element at stop index is not included**)\n",
    "\n",
    "Slice notation in valid for all sequence (i.e., also for strings).\n",
    "We can also use negative index:"
   ]
  },
  {
   "cell_type": "code",
   "execution_count": null,
   "metadata": {},
   "outputs": [],
   "source": [
    "languages = 'python', 'java', 'c++', 'c#', 'ruby'\n",
    "subset = languages[1:-1]\n",
    "print(subset)"
   ]
  },
  {
   "cell_type": "markdown",
   "metadata": {},
   "source": [
    "In this case, we are considering start as 1, while stop as length of the sequence - 1 (i.e., 5-1=4). In other words, we are taking all the elements at indexes 1,2,3.\n",
    "\n",
    "Actually, the full notation is **[start : stop: step]**, with 1 as default value for **step**. We can use the **step** to change the distance between two consecutive values\n"
   ]
  },
  {
   "cell_type": "code",
   "execution_count": null,
   "metadata": {},
   "outputs": [],
   "source": [
    "languages = 'python', 'java', 'c++', 'c#', 'ruby'\n",
    "subset = languages[1:4:2]\n",
    "print(subset)"
   ]
  },
  {
   "cell_type": "markdown",
   "metadata": {},
   "source": [
    "Moreover, using step=-1 we can obtain the reversed collection:"
   ]
  },
  {
   "cell_type": "code",
   "execution_count": null,
   "metadata": {},
   "outputs": [],
   "source": [
    "languages = 'python', 'java', 'c++', 'c#', 'ruby'\n",
    "subset = languages[::-1]\n",
    "print(subset)"
   ]
  },
  {
   "cell_type": "markdown",
   "metadata": {},
   "source": [
    "### List\n",
    "If you plan to change your data frequently, a better data structure is list."
   ]
  },
  {
   "cell_type": "code",
   "execution_count": null,
   "metadata": {},
   "outputs": [],
   "source": [
    "languages = ['python', 'java', 'c++', 'c#', 'ruby']  # this is a list\n",
    "void = list() # empty list\n",
    "void = []     # another empty list\n",
    "mixed_list = ['1', 1, True, None]\n",
    "\n",
    "print('langauges list: {}'.format(languages))\n",
    "print('void list: {}'.format(void))\n",
    "print('mixed list: {}'.format(mixed_list))"
   ]
  },
  {
   "cell_type": "markdown",
   "metadata": {},
   "source": [
    "As for tuples, we get elements using index notation"
   ]
  },
  {
   "cell_type": "code",
   "execution_count": null,
   "metadata": {},
   "outputs": [],
   "source": [
    "languages = ['python', 'java', 'c++', 'c#', 'ruby']  # this is a list\n",
    "first = languages[0]  # get the first element\n",
    "last  = languages[-1] # get the last element\n",
    "third_and_fourth = languages[2:4] \n",
    "print('first: {}'.format(first))\n",
    "print('last: {}'.format(last))\n",
    "print('third_and_fourth: {}'.format(third_and_fourth))"
   ]
  },
  {
   "cell_type": "markdown",
   "metadata": {},
   "source": [
    "Differently from tuples, we are able to modify elements of lists using index notation or exploiting methods of lists (e.g., append and insert)\n"
   ]
  },
  {
   "cell_type": "code",
   "execution_count": null,
   "metadata": {},
   "outputs": [],
   "source": [
    "languages = ['python', 'java', 'c++', 'c#', 'ruby']\n",
    "languages[1] = 'javascript' # replacing 'java' with 'javascript'\n",
    "print(languages) # ['python', 'javascript', 'c++' , 'c#', 'ruby']\n",
    "languages.append('c') #now the last element of the list is 'c'\n",
    "print(languages) # ['python', 'javascript', 'c++', 'c#', 'ruby', 'c']\n",
    "languages.insert(3,'go') # insert at index 3 the string 'go'\n",
    "print(languages) # ['python', 'javascript', 'c++', 'go', 'c#', 'ruby', 'c']"
   ]
  },
  {
   "cell_type": "markdown",
   "metadata": {},
   "source": [
    "### Dictionary\n",
    "\n",
    "Dictionaries allow to store key-value couples. For instance, we can use this data structure to save all the information about a person, e.g. its name and age"
   ]
  },
  {
   "cell_type": "code",
   "execution_count": null,
   "metadata": {},
   "outputs": [],
   "source": [
    "person = {}     # this is a dict\n",
    "person = dict() # another dict\n",
    "person['name'] = 'Filippo'\n",
    "person['surname'] = ' Aleotti'"
   ]
  },
  {
   "cell_type": "markdown",
   "metadata": {},
   "source": [
    "We can also create a dict using inline notation"
   ]
  },
  {
   "cell_type": "code",
   "execution_count": null,
   "metadata": {},
   "outputs": [],
   "source": [
    "person = {\n",
    "    'name': 'Filippo',\n",
    "    'surname': 'Aleotti',\n",
    "    'age': 26\n",
    "}\n",
    "print('Person: {}'.format(person))"
   ]
  },
  {
   "cell_type": "markdown",
   "metadata": {},
   "source": [
    "We can retrieve an element of the dictionary through its key"
   ]
  },
  {
   "cell_type": "code",
   "execution_count": null,
   "metadata": {},
   "outputs": [],
   "source": [
    "person = {\n",
    "    'name': 'Filippo',\n",
    "    'surname': 'Aleotti',\n",
    "    'age': 26\n",
    "}\n",
    "name = person['name']\n",
    "print(\"person's name is {}\".format(name))\n",
    "print(\"person's age is {}\".format(person['age']))"
   ]
  },
  {
   "cell_type": "markdown",
   "metadata": {},
   "source": [
    "If the key doesn’t exist, Error will be displayed"
   ]
  },
  {
   "cell_type": "code",
   "execution_count": null,
   "metadata": {},
   "outputs": [],
   "source": [
    "person = {\n",
    "    'name': 'Filippo',\n",
    "    'surname': 'Aleotti',\n",
    "    'age': 26\n",
    "}\n",
    "job = person['job']"
   ]
  },
  {
   "cell_type": "markdown",
   "metadata": {},
   "source": [
    "Given a dict, you can add new value just adding the correspondent key. \n",
    "For instance, we can insert a new key job to the dict person, setting it to student value"
   ]
  },
  {
   "cell_type": "code",
   "execution_count": null,
   "metadata": {},
   "outputs": [],
   "source": [
    "person = {\n",
    "    'name': 'Filippo',\n",
    "    'surname': 'Aleotti',\n",
    "    'age': 25\n",
    "}\n",
    "person['job'] = 'student'\n",
    "print('job: {}'.format(person['job']))"
   ]
  },
  {
   "cell_type": "markdown",
   "metadata": {},
   "source": [
    "Doing so, looking for key job it will be found student.\n",
    "\n",
    "Using assignment, if the key already exists its value will be replaced with the new one"
   ]
  },
  {
   "cell_type": "code",
   "execution_count": null,
   "metadata": {},
   "outputs": [],
   "source": [
    "person = {\n",
    "    'name': 'Filippo',\n",
    "    'surname': 'Aleotti',\n",
    "    'age': 25\n",
    "}\n",
    "person['job'] = 'student' # the key has been added\n",
    "print('job: {}'.format(person['job']))\n",
    "person['job'] = 'doctor'  # the key has been updated\n",
    "print('job: {}'.format(person['job']))"
   ]
  },
  {
   "cell_type": "markdown",
   "metadata": {},
   "source": [
    "We can obtain a list with all the key-value couples of a dict by running the **items** method. Instead, the method **keys** returns all the keys of a dict. "
   ]
  },
  {
   "cell_type": "code",
   "execution_count": null,
   "metadata": {},
   "outputs": [],
   "source": [
    "person = {\n",
    "    'name': 'Filippo',\n",
    "    'surname': 'Aleotti',\n",
    "    'age': 25\n",
    "}\n",
    "print(person.items()) # [('age', 25), ('surname', 'Aleotti'), ('name', 'Filippo')]\n",
    "print(person.keys())  # ['age', 'surname', 'name']"
   ]
  },
  {
   "cell_type": "markdown",
   "metadata": {},
   "source": [
    "## Statements\n",
    "\n",
    "Repeating a set of instruction N times or check if a given condition is verified or not, and act accordingly is quite common scenario in algorithms. For instance, suppose we have to solve the following problem:\n",
    "\n",
    "*if the age of a person is lower than 18 years old then display the message “You are not qualified to drive a car”, otherwise display three times the message “have a good day”*\n",
    "\n",
    "To solve the problem, we have to perform checks and to repeat instructions!\n",
    "\n",
    "### Condition\n",
    "\n",
    "To check if a given condition is True or False, and act accordingly we can use the **if statement**"
   ]
  },
  {
   "cell_type": "code",
   "execution_count": null,
   "metadata": {},
   "outputs": [],
   "source": [
    "x = 5\n",
    "y = 3\n",
    "if x > y:\n",
    "    print('x is greater than y')\n",
    "else:\n",
    "    print('y is greater or equal than x')"
   ]
  },
  {
   "cell_type": "markdown",
   "metadata": {},
   "source": [
    "Given the condition x > y, if it is verified then we will print x is greater than y, otherwise y is greater or equal than x \n",
    "\n",
    "We can use the elif reserved key to add more than a single condition"
   ]
  },
  {
   "cell_type": "code",
   "execution_count": null,
   "metadata": {},
   "outputs": [],
   "source": [
    "x = 5\n",
    "y = 3\n",
    "if x > y:\n",
    "    print('x is greater than y')\n",
    "elif x == y:\n",
    "    print('x and y are equal')\n",
    "else:\n",
    "    print('y is greater than x')"
   ]
  },
  {
   "cell_type": "markdown",
   "metadata": {},
   "source": [
    "Notice that in the previous example the print functions were not aligned with the conditions. **In Python, indenting is mandatory**, since it allows group a set of instructions. \n",
    "You are free to indent using tab or spaces, but the choice must be consistent in the full script. "
   ]
  },
  {
   "cell_type": "code",
   "execution_count": null,
   "metadata": {},
   "outputs": [],
   "source": [
    "x = 5\n",
    "y = 3\n",
    "if x > y:\n",
    "    print('x is greater than y')\n",
    "    x = x-2\n",
    "else:\n",
    "    print('y is greater or equal than x')\n",
    "    x = x+2"
   ]
  },
  {
   "cell_type": "markdown",
   "metadata": {},
   "source": [
    "### For loop\n",
    "\n",
    "**For loop** allows to repeat a given set of instructions N times"
   ]
  },
  {
   "cell_type": "code",
   "execution_count": null,
   "metadata": {},
   "outputs": [],
   "source": [
    "counter = 0\n",
    "for i in range(50):\n",
    "    counter += 1\n",
    "print('counter: {}'.format(counter))"
   ]
  },
  {
   "cell_type": "markdown",
   "metadata": {},
   "source": [
    "The range function creates a list of indexes [0,50[ (so, 50 indexes), then for each index we increase the counter.\n",
    "Doing so, we have increased for 50 times the counter variable\n",
    "\n",
    "Changing the parameters of the range function we can obtain different results. For instance, we can increase the starting index, and even the step between consecutive indexes (default step is 1)"
   ]
  },
  {
   "cell_type": "code",
   "execution_count": null,
   "metadata": {},
   "outputs": [],
   "source": [
    "counter = 0\n",
    "for i in range(10,40,2):\n",
    "    counter += 1\n",
    "print('counter: {}'.format(counter))"
   ]
  },
  {
   "cell_type": "markdown",
   "metadata": {},
   "source": [
    "In this case, counter is 15 because we start from 10 up to 40 (with 40 excluded) and the step between each index and the following one is 2 (so 10, 12, 14 …, 38).\n",
    "\n",
    "Moreover, we can use the for loop to iterate over each element of a list"
   ]
  },
  {
   "cell_type": "code",
   "execution_count": null,
   "metadata": {},
   "outputs": [],
   "source": [
    "fruits = ['apple', 'strawberry', 'mango', 'grapefruit']\n",
    "searched_fruit = 'apple'\n",
    "for fruit in fruits:\n",
    "    if searched_fruit == fruit:\n",
    "        print('found it!')"
   ]
  },
  {
   "cell_type": "markdown",
   "metadata": {},
   "source": [
    "We can iterate also on elements of a dictionary"
   ]
  },
  {
   "cell_type": "code",
   "execution_count": null,
   "metadata": {},
   "outputs": [],
   "source": [
    "person = {\n",
    "    'name': 'Filippo',\n",
    "    'surname': 'Aleotti',\n",
    "    'age': 25,\n",
    "    'job': 'student'\n",
    "}\n",
    "for k,v in person.items():\n",
    "    print('key:{} value:{}'.format(k,v))"
   ]
  },
  {
   "cell_type": "markdown",
   "metadata": {},
   "source": [
    "### While loop\n",
    "\n",
    "Python **while loops** are used to iterate as long as the condition is **True**"
   ]
  },
  {
   "cell_type": "code",
   "execution_count": null,
   "metadata": {},
   "outputs": [],
   "source": [
    "found = False\n",
    "searched_fruit = 'apple'\n",
    "index = 0\n",
    "fruits = ['mango', 'peach', 'pineapple', 'apple', 'strawberry']\n",
    "\n",
    "while not found and index < len(fruits):\n",
    "    if fruits[index] == searched_fruit:\n",
    "        found = True\n",
    "    else:\n",
    "        index += 1\n",
    "result = '{} is at index {}'.format(searched_fruit, index) if found else '{} not found'.format(searched_fruit)\n",
    "print(result)"
   ]
  },
  {
   "cell_type": "markdown",
   "metadata": {},
   "source": [
    "## Function\n",
    "\n",
    "In order to improve the **readability** but also the **reusability** of your code, it is a good practice to encapsulate a set of instructions inside a **function**. This function may be called both from the same or other scripts.\n",
    "\n",
    "Functions are defined using the **def** keyword. "
   ]
  },
  {
   "cell_type": "code",
   "execution_count": null,
   "metadata": {},
   "outputs": [],
   "source": [
    "def dot(x,y):\n",
    "    result = x*y\n",
    "    return result"
   ]
  },
  {
   "cell_type": "markdown",
   "metadata": {},
   "source": [
    "In this case, we have created the dot function. x and y are arguments of the function.\n",
    "\n",
    "The reserved keyword return allows to exit the function, giving back the value stored in the variable.\n",
    "\n",
    "For instance, in the dot function we have stored into the result variable the dot value, and when the function will be called we will return such value.\n",
    "\n",
    "We can return even more than one value (comma separated), but in general it is a good practice return back a dict or a list.\n",
    "\n",
    "We can run the function as many time as we desire, and the function may contains as many instructions as you want. "
   ]
  },
  {
   "cell_type": "code",
   "execution_count": null,
   "metadata": {},
   "outputs": [],
   "source": [
    "def dot(x,y):\n",
    "    return x*y\n",
    "\n",
    "dot1 = dot(5,3)\n",
    "dot2 = dot(2,4)\n",
    "print('dot1: {}'.format(dot1))\n",
    "print('dot2: {}'.format(dot2))"
   ]
  },
  {
   "cell_type": "markdown",
   "metadata": {},
   "source": [
    "In this example, we have called the dot function two times, with different parameters.\n",
    "\n",
    "We can also set default values for parameters: when the function is called, if a parameter is not set the default value will be used."
   ]
  },
  {
   "cell_type": "code",
   "execution_count": null,
   "metadata": {},
   "outputs": [],
   "source": [
    "def my_transformation(x, alpha=1, beta=5):\n",
    "    return x**alpha - beta\n",
    "\n",
    "x1 = my_transformation(5)          # 0, we are setting alpha=1, beta=5\n",
    "x2 = my_transformation(5, alpha=3) # 120, we are setting alpha=3, beta=5\n",
    "x3 = my_transformation(5,  beta=2) # 3, we are setting alpha=1, beta=2\n",
    "x4 = my_transformation(5, alpha=2, beta=2) # 23, we are setting alpha=2, beta=2\n",
    "\n",
    "print('x1: {}'.format(x1))\n",
    "print('x2: {}'.format(x2))\n",
    "print('x3: {}'.format(x3))\n",
    "print('x4: {}'.format(x4))"
   ]
  },
  {
   "cell_type": "markdown",
   "metadata": {},
   "source": [
    "Of course, if a parameter doesn’t have a default, it must be set when the function is called, otherwise Error will be raised"
   ]
  },
  {
   "cell_type": "code",
   "execution_count": null,
   "metadata": {},
   "outputs": [],
   "source": [
    "def my_transformation(x, alpha=1, beta=5):\n",
    "    return x**alpha - beta\n",
    "\n",
    "x5 = my_transformation() # TypeError: my_transformation() takes at least 1 argument (0 given)    "
   ]
  },
  {
   "cell_type": "markdown",
   "metadata": {},
   "source": [
    "# Exercises"
   ]
  },
  {
   "cell_type": "markdown",
   "metadata": {},
   "source": [
    "### Exercise 1\n",
    "Create a Python function that, given three numbers as input A,B and C, return the sum of A and B if C is multiple of 9,  otherwise the subtraction between C and 3 times B, powered by A.  "
   ]
  },
  {
   "cell_type": "code",
   "execution_count": null,
   "metadata": {},
   "outputs": [],
   "source": []
  },
  {
   "cell_type": "markdown",
   "metadata": {},
   "source": [
    "### Exercise 2\n",
    "\n",
    "Create a Python function that, given a word as input, return True if that world is palindrome, False otherwise\n",
    "\n",
    "**Tips 1**: a word is palindrome if the the first character is equal to the last, the second character is equal to the second-last and so on.\n",
    "\n",
    "**Tips 2**: reversing a palindrome word (so, last character becomes the first, second-last the second and so on) we obtain the same word"
   ]
  },
  {
   "cell_type": "code",
   "execution_count": null,
   "metadata": {},
   "outputs": [],
   "source": []
  },
  {
   "cell_type": "markdown",
   "metadata": {},
   "source": [
    "### Exercise 3\n",
    "\n",
    "Given a list of integer, store the frequency of each value in a dict, where the key is the value."
   ]
  },
  {
   "cell_type": "code",
   "execution_count": null,
   "metadata": {},
   "outputs": [],
   "source": []
  },
  {
   "cell_type": "markdown",
   "metadata": {},
   "source": [
    "### Exercise 4\n",
    "\n",
    "Modify the function realised in the previous exercise to return (inside the dict, using the key min) also the value with minimum frequency. If more values have the same minimum frequency, then return the lowest one"
   ]
  },
  {
   "cell_type": "code",
   "execution_count": null,
   "metadata": {},
   "outputs": [],
   "source": []
  },
  {
   "cell_type": "markdown",
   "metadata": {},
   "source": [
    "# Solutions\n",
    "\n",
    "### Exercise 1"
   ]
  },
  {
   "cell_type": "code",
   "execution_count": 10,
   "metadata": {},
   "outputs": [],
   "source": [
    "def crazy_func(A,B,C):\n",
    "    remainder = C % 9\n",
    "    result = None\n",
    "    if remainder == 0:\n",
    "         result = A+B \n",
    "    else: \n",
    "        result = (C-3*B)**A\n",
    "    return result\n",
    "\n",
    "\n",
    "first_call  = crazy_func(A=3, B=1, C=5)\n",
    "second_call = crazy_func(A=2, B=1, C=18)"
   ]
  },
  {
   "cell_type": "markdown",
   "metadata": {},
   "source": [
    "### Exercise 2"
   ]
  },
  {
   "cell_type": "code",
   "execution_count": 11,
   "metadata": {},
   "outputs": [],
   "source": [
    "def palindrome(word):\n",
    "    reversed_word = word[::-1]\n",
    "    return word == reversed_word\n",
    "\n",
    "apple_call = palindrome('apple')\n",
    "abba_call  = palindrome('abba')"
   ]
  },
  {
   "cell_type": "markdown",
   "metadata": {},
   "source": [
    "### Exercise 2 (other solution)"
   ]
  },
  {
   "cell_type": "code",
   "execution_count": 12,
   "metadata": {},
   "outputs": [],
   "source": [
    "def palindrome(word):\n",
    "    # we have to check half the string, \n",
    "    is_palindrome = True\n",
    "    length = len(word)-1\n",
    "    for i in range(int(len(word)/2)):        \n",
    "        if word[i] != word[length -i]:\n",
    "            is_palindrome = False\n",
    "    return is_palindrome\n",
    "\n",
    "apple_call = palindrome('apple')\n",
    "abba_call  = palindrome('abba')\n",
    "abcba_call  = palindrome('abcba')"
   ]
  },
  {
   "cell_type": "markdown",
   "metadata": {},
   "source": [
    "### Exercise 3\n",
    "\n",
    "**NOTE**: just for testing purposes, we add a function to check if two dict are equal"
   ]
  },
  {
   "cell_type": "code",
   "execution_count": 13,
   "metadata": {},
   "outputs": [],
   "source": [
    "def are_equals(dict1, dict2):\n",
    "    ''' check if two dict are equal.\n",
    "        Both the dicts have str keys and integer values\n",
    "    '''\n",
    "    for k,v in dict1.items():\n",
    "        if k not in dict2.keys():\n",
    "            return False\n",
    "        if dict2[k] !=  v:\n",
    "            return False\n",
    "    return True\n",
    "\n",
    "\n",
    "def frequency_extractor(input_list):\n",
    "    output_dict = {}\n",
    "    for element in input_list:\n",
    "        if str(element) not in output_dict.keys():\n",
    "            output_dict[str(element)] = 1\n",
    "        else:\n",
    "            output_dict[str(element)] += 1\n",
    "    return output_dict\n",
    "\n",
    "frequency_1  = frequency_extractor([0,1,0,2,2,1,2,1,0,0,2,1,1])\n",
    "frequency_2  = frequency_extractor([1,2,2,2,0,5,3])"
   ]
  },
  {
   "cell_type": "markdown",
   "metadata": {},
   "source": [
    "### Exercise 4"
   ]
  },
  {
   "cell_type": "code",
   "execution_count": 14,
   "metadata": {},
   "outputs": [],
   "source": [
    "def are_equals(dict1, dict2):\n",
    "    ''' check if two dict are equal.\n",
    "        Both the dicts have str keys and integer values\n",
    "    '''\n",
    "    for k,v in dict1.items():\n",
    "        if k not in dict2.keys():\n",
    "            return False\n",
    "        if dict2[k] !=  v:\n",
    "            return False\n",
    "    return True\n",
    "\n",
    "def frequency_extractor(input_list):\n",
    "    output_dict = {}\n",
    "    for element in input_list:\n",
    "        if str(element) not in output_dict.keys():\n",
    "            output_dict[str(element)] = 1\n",
    "        else:\n",
    "            output_dict[str(element)] += 1\n",
    "    min_value = None\n",
    "    #NOTE: val are str, so we need an int cast to obtain integer values\n",
    "    for val, freq in output_dict.items():\n",
    "        if min_value == None:\n",
    "            #NOTE: at first iteration, we will always enter here\n",
    "            min_value = int(val)\n",
    "        else:\n",
    "            if freq < output_dict[str(min_value)]:\n",
    "                # this frequency value is lower than the frequency of the current minimum,\n",
    "                # so we have to update the current minimum\n",
    "                min_value = int(val)\n",
    "            elif freq ==  output_dict[str(min_value)] and min_value > int(val):\n",
    "                # the frequency is equal to the frequency of minimum.\n",
    "                # We have to update the minimum only if the current minimum\n",
    "                # is greather than this value\n",
    "                min_value = int(val)\n",
    "    output_dict['min'] = min_value\n",
    "    return output_dict\n",
    "\n",
    "frequency_1  = frequency_extractor([0,1,0,2,2,1,2,1,0,0,2,1,1])\n",
    "frequency_2  = frequency_extractor([1,2,2,2,1,5,3,1])"
   ]
  }
 ],
 "metadata": {
  "kernelspec": {
   "display_name": "Python 3",
   "language": "python",
   "name": "python3"
  },
  "language_info": {
   "codemirror_mode": {
    "name": "ipython",
    "version": 3
   },
   "file_extension": ".py",
   "mimetype": "text/x-python",
   "name": "python",
   "nbconvert_exporter": "python",
   "pygments_lexer": "ipython3",
   "version": "3.6.7"
  }
 },
 "nbformat": 4,
 "nbformat_minor": 2
}
